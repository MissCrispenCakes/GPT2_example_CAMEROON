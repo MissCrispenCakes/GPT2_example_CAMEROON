{
  "nbformat": 4,
  "nbformat_minor": 0,
  "metadata": {
    "colab": {
      "name": "Lab 10 - GPT-2_cameroon.ipynb",
      "provenance": [],
      "collapsed_sections": [],
      "toc_visible": true,
      "include_colab_link": true
    },
    "kernelspec": {
      "name": "python3",
      "display_name": "Python 3"
    },
    "accelerator": "GPU"
  },
  "cells": [
    {
      "cell_type": "markdown",
      "metadata": {
        "id": "view-in-github",
        "colab_type": "text"
      },
      "source": [
        "<a href=\"https://colab.research.google.com/github/MissCrispenCakes/GPT2_example_CAMEROON/blob/master/Lab_10_GPT_2_cameroon.ipynb\" target=\"_parent\"><img src=\"https://colab.research.google.com/assets/colab-badge.svg\" alt=\"Open In Colab\"/></a>"
      ]
    },
    {
      "cell_type": "markdown",
      "metadata": {
        "id": "AhQsu-RQQXWG"
      },
      "source": [
        "# GPT-2 Example\r\n",
        "\r\n",
        "## Here we will run through the popular GPT-2:\r\n",
        "\r\n",
        "GPT-2 is a neural-network-powered language model. A language model is a model that predicts the likelihood of a sentence existing in the world. For example, a language model can label the sentence “I take my dog for a walk” as more probable to exist (i.e. on the Internet) than the sentence “I take my banana for a walk.” This is true for sentences as well as phrases and, more generally, any sequence of characters.\r\n",
        "\r\n",
        "Like most language models, GPT-2 is elegantly trained on an unlabeled text dataset (in this case, the training data includes among others Common Crawl and Wikipedia). Words or phrases are randomly removed from the text, and the model must learn to fill them in using only the surrounding words as context. It’s a simple training task that results in a powerful and generalizable model.\r\n",
        "\r\n",
        "\r\n",
        "---\r\n",
        "\r\n",
        "\r\n"
      ]
    },
    {
      "cell_type": "markdown",
      "metadata": {
        "id": "Pzxl1vYX-1kk"
      },
      "source": [
        "Setup:\n",
        "\n",
        "1) Make sure GPU is enabled, go to edit->notebook settings->Hardware Accelerator GPU\n",
        "\n",
        "2) Make a copy to your google drive, click on copy to drive in panel"
      ]
    },
    {
      "cell_type": "markdown",
      "metadata": {
        "id": "iW0abT07ZkhZ"
      },
      "source": [
        "Note: Colab will reset after 12 hours make sure to save your model checkpoints to google drive around 10-11 hours mark or before, then go to runtime->reset all runtimes. Now copy your train model back into colab and start training again from the previous checkpoint."
      ]
    },
    {
      "cell_type": "markdown",
      "metadata": {
        "id": "iLXW02eIYpcB"
      },
      "source": [
        "clone and cd into repo\r\n",
        "\r\n",
        "\r\n",
        "---\r\n",
        "# FOR NOW I AM USING MY PUBLIC REPO CLONE - WE CAN CLONE INTO THE CAMEROON GITHUB>?\r\n",
        "\r\n",
        "\r\n",
        "---\r\n",
        "\r\n",
        "\r\n"
      ]
    },
    {
      "cell_type": "code",
      "metadata": {
        "id": "ICYu3w9hIJkC",
        "colab": {
          "base_uri": "https://localhost:8080/"
        },
        "outputId": "37d5cdaf-4692-4236-ead7-3d09a3f798f4"
      },
      "source": [
        "!git clone https://github.com/MissCrispenCakes/GPT2_example_CAMEROON.git"
      ],
      "execution_count": 1,
      "outputs": [
        {
          "output_type": "stream",
          "text": [
            "Cloning into 'GPT2_example_CAMEROON'...\n",
            "remote: Enumerating objects: 51, done.\u001b[K\n",
            "remote: Counting objects: 100% (51/51), done.\u001b[K\n",
            "remote: Compressing objects: 100% (45/45), done.\u001b[K\n",
            "remote: Total 51 (delta 23), reused 9 (delta 4), pack-reused 0\u001b[K\n",
            "Unpacking objects: 100% (51/51), done.\n"
          ],
          "name": "stdout"
        }
      ]
    },
    {
      "cell_type": "code",
      "metadata": {
        "id": "6eEIs3ApZUVO",
        "colab": {
          "base_uri": "https://localhost:8080/"
        },
        "outputId": "1529ad25-3784-4003-81ff-e7a636cfadd7"
      },
      "source": [
        "cd GPT2_example_CAMEROO\\N"
      ],
      "execution_count": 2,
      "outputs": [
        {
          "output_type": "stream",
          "text": [
            "/content/GPT2_example_CAMEROON\n"
          ],
          "name": "stdout"
        }
      ]
    },
    {
      "cell_type": "markdown",
      "metadata": {
        "id": "Qtn1qZPgZLb0"
      },
      "source": [
        "Install requirements.\r\n",
        "\r\n",
        "We will use an earlier version of TensorFlow than we have been using for our labs so far - this will make it easier for you to play around with the introductory content that exists online. (If time will update/transfer to newer TF - don't worry about the 'incompatible' flags - they get resolved)"
      ]
    },
    {
      "cell_type": "code",
      "metadata": {
        "id": "434oOx0bZH6J",
        "colab": {
          "base_uri": "https://localhost:8080/"
        },
        "outputId": "c2c03ec6-7f54-48ff-820a-12fd00d3b99b"
      },
      "source": [
        "!pip3 install tensorflow==1.15.0rc3\r\n",
        "!pip3 install -r requirements.txt"
      ],
      "execution_count": 3,
      "outputs": [
        {
          "output_type": "stream",
          "text": [
            "Collecting tensorflow==1.15.0rc3\n",
            "\u001b[?25l  Downloading https://files.pythonhosted.org/packages/fe/a7/b2db9e94920efea59877476cd2ba239dbd5fb631f861a2785dd2c24a8a24/tensorflow-1.15.0rc3-cp36-cp36m-manylinux2010_x86_64.whl (412.3MB)\n",
            "\u001b[K     |████████████████████████████████| 412.3MB 37kB/s \n",
            "\u001b[?25hRequirement already satisfied: protobuf>=3.6.1 in /usr/local/lib/python3.6/dist-packages (from tensorflow==1.15.0rc3) (3.12.4)\n",
            "Requirement already satisfied: six>=1.10.0 in /usr/local/lib/python3.6/dist-packages (from tensorflow==1.15.0rc3) (1.15.0)\n",
            "Collecting keras-applications>=1.0.8\n",
            "\u001b[?25l  Downloading https://files.pythonhosted.org/packages/71/e3/19762fdfc62877ae9102edf6342d71b28fbfd9dea3d2f96a882ce099b03f/Keras_Applications-1.0.8-py3-none-any.whl (50kB)\n",
            "\u001b[K     |████████████████████████████████| 51kB 8.7MB/s \n",
            "\u001b[?25hCollecting tensorboard<1.16.0,>=1.15.0\n",
            "\u001b[?25l  Downloading https://files.pythonhosted.org/packages/1e/e9/d3d747a97f7188f48aa5eda486907f3b345cd409f0a0850468ba867db246/tensorboard-1.15.0-py3-none-any.whl (3.8MB)\n",
            "\u001b[K     |████████████████████████████████| 3.8MB 62.0MB/s \n",
            "\u001b[?25hCollecting gast==0.2.2\n",
            "  Downloading https://files.pythonhosted.org/packages/4e/35/11749bf99b2d4e3cceb4d55ca22590b0d7c2c62b9de38ac4a4a7f4687421/gast-0.2.2.tar.gz\n",
            "Requirement already satisfied: wrapt>=1.11.1 in /usr/local/lib/python3.6/dist-packages (from tensorflow==1.15.0rc3) (1.12.1)\n",
            "Requirement already satisfied: numpy<2.0,>=1.16.0 in /usr/local/lib/python3.6/dist-packages (from tensorflow==1.15.0rc3) (1.19.4)\n",
            "Requirement already satisfied: opt-einsum>=2.3.2 in /usr/local/lib/python3.6/dist-packages (from tensorflow==1.15.0rc3) (3.3.0)\n",
            "Requirement already satisfied: astor>=0.6.0 in /usr/local/lib/python3.6/dist-packages (from tensorflow==1.15.0rc3) (0.8.1)\n",
            "Requirement already satisfied: keras-preprocessing>=1.0.5 in /usr/local/lib/python3.6/dist-packages (from tensorflow==1.15.0rc3) (1.1.2)\n",
            "Requirement already satisfied: grpcio>=1.8.6 in /usr/local/lib/python3.6/dist-packages (from tensorflow==1.15.0rc3) (1.32.0)\n",
            "Requirement already satisfied: absl-py>=0.7.0 in /usr/local/lib/python3.6/dist-packages (from tensorflow==1.15.0rc3) (0.10.0)\n",
            "Requirement already satisfied: wheel>=0.26 in /usr/local/lib/python3.6/dist-packages (from tensorflow==1.15.0rc3) (0.36.2)\n",
            "Requirement already satisfied: google-pasta>=0.1.6 in /usr/local/lib/python3.6/dist-packages (from tensorflow==1.15.0rc3) (0.2.0)\n",
            "Collecting tensorflow-estimator==1.15.1\n",
            "\u001b[?25l  Downloading https://files.pythonhosted.org/packages/de/62/2ee9cd74c9fa2fa450877847ba560b260f5d0fb70ee0595203082dafcc9d/tensorflow_estimator-1.15.1-py2.py3-none-any.whl (503kB)\n",
            "\u001b[K     |████████████████████████████████| 512kB 54.4MB/s \n",
            "\u001b[?25hRequirement already satisfied: termcolor>=1.1.0 in /usr/local/lib/python3.6/dist-packages (from tensorflow==1.15.0rc3) (1.1.0)\n",
            "Requirement already satisfied: setuptools in /usr/local/lib/python3.6/dist-packages (from protobuf>=3.6.1->tensorflow==1.15.0rc3) (51.0.0)\n",
            "Requirement already satisfied: h5py in /usr/local/lib/python3.6/dist-packages (from keras-applications>=1.0.8->tensorflow==1.15.0rc3) (2.10.0)\n",
            "Requirement already satisfied: markdown>=2.6.8 in /usr/local/lib/python3.6/dist-packages (from tensorboard<1.16.0,>=1.15.0->tensorflow==1.15.0rc3) (3.3.3)\n",
            "Requirement already satisfied: werkzeug>=0.11.15 in /usr/local/lib/python3.6/dist-packages (from tensorboard<1.16.0,>=1.15.0->tensorflow==1.15.0rc3) (1.0.1)\n",
            "Requirement already satisfied: importlib-metadata; python_version < \"3.8\" in /usr/local/lib/python3.6/dist-packages (from markdown>=2.6.8->tensorboard<1.16.0,>=1.15.0->tensorflow==1.15.0rc3) (3.3.0)\n",
            "Requirement already satisfied: typing-extensions>=3.6.4; python_version < \"3.8\" in /usr/local/lib/python3.6/dist-packages (from importlib-metadata; python_version < \"3.8\"->markdown>=2.6.8->tensorboard<1.16.0,>=1.15.0->tensorflow==1.15.0rc3) (3.7.4.3)\n",
            "Requirement already satisfied: zipp>=0.5 in /usr/local/lib/python3.6/dist-packages (from importlib-metadata; python_version < \"3.8\"->markdown>=2.6.8->tensorboard<1.16.0,>=1.15.0->tensorflow==1.15.0rc3) (3.4.0)\n",
            "Building wheels for collected packages: gast\n",
            "  Building wheel for gast (setup.py) ... \u001b[?25l\u001b[?25hdone\n",
            "  Created wheel for gast: filename=gast-0.2.2-cp36-none-any.whl size=7540 sha256=3a9679173a46a07680657dcfb8144cf921b52d787bd8d32c7b646e5296ba945b\n",
            "  Stored in directory: /root/.cache/pip/wheels/5c/2e/7e/a1d4d4fcebe6c381f378ce7743a3ced3699feb89bcfbdadadd\n",
            "Successfully built gast\n",
            "\u001b[31mERROR: tensorflow-probability 0.11.0 has requirement gast>=0.3.2, but you'll have gast 0.2.2 which is incompatible.\u001b[0m\n",
            "Installing collected packages: keras-applications, tensorboard, gast, tensorflow-estimator, tensorflow\n",
            "  Found existing installation: tensorboard 2.4.0\n",
            "    Uninstalling tensorboard-2.4.0:\n",
            "      Successfully uninstalled tensorboard-2.4.0\n",
            "  Found existing installation: gast 0.3.3\n",
            "    Uninstalling gast-0.3.3:\n",
            "      Successfully uninstalled gast-0.3.3\n",
            "  Found existing installation: tensorflow-estimator 2.4.0\n",
            "    Uninstalling tensorflow-estimator-2.4.0:\n",
            "      Successfully uninstalled tensorflow-estimator-2.4.0\n",
            "  Found existing installation: tensorflow 2.4.0\n",
            "    Uninstalling tensorflow-2.4.0:\n",
            "      Successfully uninstalled tensorflow-2.4.0\n",
            "Successfully installed gast-0.2.2 keras-applications-1.0.8 tensorboard-1.15.0 tensorflow-1.15.0rc3 tensorflow-estimator-1.15.1\n",
            "Collecting fire>=0.1.3\n",
            "\u001b[?25l  Downloading https://files.pythonhosted.org/packages/34/a7/0e22e70778aca01a52b9c899d9c145c6396d7b613719cd63db97ffa13f2f/fire-0.3.1.tar.gz (81kB)\n",
            "\u001b[K     |████████████████████████████████| 81kB 5.8MB/s \n",
            "\u001b[?25hCollecting regex==2017.4.5\n",
            "\u001b[?25l  Downloading https://files.pythonhosted.org/packages/36/62/c0c0d762ffd4ffaf39f372eb8561b8d491a11ace5a7884610424a8b40f95/regex-2017.04.05.tar.gz (601kB)\n",
            "\u001b[K     |████████████████████████████████| 604kB 12.4MB/s \n",
            "\u001b[?25hCollecting requests==2.21.0\n",
            "\u001b[?25l  Downloading https://files.pythonhosted.org/packages/7d/e3/20f3d364d6c8e5d2353c72a67778eb189176f08e873c9900e10c0287b84b/requests-2.21.0-py2.py3-none-any.whl (57kB)\n",
            "\u001b[K     |████████████████████████████████| 61kB 8.3MB/s \n",
            "\u001b[?25hCollecting tqdm==4.31.1\n",
            "\u001b[?25l  Downloading https://files.pythonhosted.org/packages/6c/4b/c38b5144cf167c4f52288517436ccafefe9dc01b8d1c190e18a6b154cd4a/tqdm-4.31.1-py2.py3-none-any.whl (48kB)\n",
            "\u001b[K     |████████████████████████████████| 51kB 6.2MB/s \n",
            "\u001b[?25hCollecting toposort==1.5\n",
            "  Downloading https://files.pythonhosted.org/packages/e9/8a/321cd8ea5f4a22a06e3ba30ef31ec33bea11a3443eeb1d89807640ee6ed4/toposort-1.5-py2.py3-none-any.whl\n",
            "Requirement already satisfied: six in /usr/local/lib/python3.6/dist-packages (from fire>=0.1.3->-r requirements.txt (line 1)) (1.15.0)\n",
            "Requirement already satisfied: termcolor in /usr/local/lib/python3.6/dist-packages (from fire>=0.1.3->-r requirements.txt (line 1)) (1.1.0)\n",
            "Requirement already satisfied: certifi>=2017.4.17 in /usr/local/lib/python3.6/dist-packages (from requests==2.21.0->-r requirements.txt (line 3)) (2020.12.5)\n",
            "Requirement already satisfied: chardet<3.1.0,>=3.0.2 in /usr/local/lib/python3.6/dist-packages (from requests==2.21.0->-r requirements.txt (line 3)) (3.0.4)\n",
            "Collecting idna<2.9,>=2.5\n",
            "\u001b[?25l  Downloading https://files.pythonhosted.org/packages/14/2c/cd551d81dbe15200be1cf41cd03869a46fe7226e7450af7a6545bfc474c9/idna-2.8-py2.py3-none-any.whl (58kB)\n",
            "\u001b[K     |████████████████████████████████| 61kB 8.8MB/s \n",
            "\u001b[?25hRequirement already satisfied: urllib3<1.25,>=1.21.1 in /usr/local/lib/python3.6/dist-packages (from requests==2.21.0->-r requirements.txt (line 3)) (1.24.3)\n",
            "Building wheels for collected packages: fire, regex\n",
            "  Building wheel for fire (setup.py) ... \u001b[?25l\u001b[?25hdone\n",
            "  Created wheel for fire: filename=fire-0.3.1-py2.py3-none-any.whl size=111006 sha256=0572a968d7b9afe46888218fff76ebc1a46884677440a3bcb7b7cbd1d56ff05b\n",
            "  Stored in directory: /root/.cache/pip/wheels/c1/61/df/768b03527bf006b546dce284eb4249b185669e65afc5fbb2ac\n",
            "  Building wheel for regex (setup.py) ... \u001b[?25l\u001b[?25hdone\n",
            "  Created wheel for regex: filename=regex-2017.4.5-cp36-cp36m-linux_x86_64.whl size=533206 sha256=0386bfb06c47adf201f049e286c74ce51744077e23be40b6f88d178c8d7f7a54\n",
            "  Stored in directory: /root/.cache/pip/wheels/75/07/38/3c16b529d50cb4e0cd3dbc7b75cece8a09c132692c74450b01\n",
            "Successfully built fire regex\n",
            "\u001b[31mERROR: spacy 2.2.4 has requirement tqdm<5.0.0,>=4.38.0, but you'll have tqdm 4.31.1 which is incompatible.\u001b[0m\n",
            "\u001b[31mERROR: google-colab 1.0.0 has requirement requests~=2.23.0, but you'll have requests 2.21.0 which is incompatible.\u001b[0m\n",
            "\u001b[31mERROR: fbprophet 0.7.1 has requirement tqdm>=4.36.1, but you'll have tqdm 4.31.1 which is incompatible.\u001b[0m\n",
            "\u001b[31mERROR: datascience 0.10.6 has requirement folium==0.2.1, but you'll have folium 0.8.3 which is incompatible.\u001b[0m\n",
            "Installing collected packages: fire, regex, idna, requests, tqdm, toposort\n",
            "  Found existing installation: regex 2019.12.20\n",
            "    Uninstalling regex-2019.12.20:\n",
            "      Successfully uninstalled regex-2019.12.20\n",
            "  Found existing installation: idna 2.10\n",
            "    Uninstalling idna-2.10:\n",
            "      Successfully uninstalled idna-2.10\n",
            "  Found existing installation: requests 2.23.0\n",
            "    Uninstalling requests-2.23.0:\n",
            "      Successfully uninstalled requests-2.23.0\n",
            "  Found existing installation: tqdm 4.41.1\n",
            "    Uninstalling tqdm-4.41.1:\n",
            "      Successfully uninstalled tqdm-4.41.1\n",
            "Successfully installed fire-0.3.1 idna-2.8 regex-2017.4.5 requests-2.21.0 toposort-1.5 tqdm-4.31.1\n"
          ],
          "name": "stdout"
        }
      ]
    },
    {
      "cell_type": "markdown",
      "metadata": {
        "id": "WvUQhgK3PQ4L"
      },
      "source": [
        "Mount drive to access google drive for saving and accessing checkpoints later. Have to log in to your google account - you may already be connected from Lab 9, run this anyway to check."
      ]
    },
    {
      "cell_type": "code",
      "metadata": {
        "id": "FNpf6R4ahYSN",
        "colab": {
          "base_uri": "https://localhost:8080/"
        },
        "outputId": "3ef6f56d-d149-4cbd-d586-f04e2b107ab7"
      },
      "source": [
        "from google.colab import drive\n",
        "drive.mount('/content/drive')"
      ],
      "execution_count": 4,
      "outputs": [
        {
          "output_type": "stream",
          "text": [
            "Mounted at /content/drive\n"
          ],
          "name": "stdout"
        }
      ]
    },
    {
      "cell_type": "markdown",
      "metadata": {
        "id": "o1hrgeKFYsuE"
      },
      "source": [
        "Download the model data - we will only consider pre-trained models that are small and medium in size (due to time, space)\r\n",
        "\r\n",
        "*   117M\r\n",
        "*   345M\r\n",
        "\r\n"
      ]
    },
    {
      "cell_type": "code",
      "metadata": {
        "id": "A498TySgHYyF",
        "colab": {
          "base_uri": "https://localhost:8080/"
        },
        "outputId": "f60e3238-856a-42b9-9d98-50fbac1434bd"
      },
      "source": [
        "!python3 download_model.py 117M"
      ],
      "execution_count": 5,
      "outputs": [
        {
          "output_type": "stream",
          "text": [
            "Fetching checkpoint: 1.00kit [00:00, 1.17Mit/s]                                                     \n",
            "Fetching encoder.json: 1.04Mit [00:00, 61.6Mit/s]                                                   \n",
            "Fetching hparams.json: 1.00kit [00:00, 1.30Mit/s]                                                   \n",
            "Fetching model.ckpt.data-00000-of-00001: 498Mit [00:05, 88.6Mit/s]                                  \n",
            "Fetching model.ckpt.index: 6.00kit [00:00, 4.97Mit/s]                                               \n",
            "Fetching model.ckpt.meta: 472kit [00:00, 65.4Mit/s]                                                 \n",
            "Fetching vocab.bpe: 457kit [00:00, 53.1Mit/s]                                                       \n"
          ],
          "name": "stdout"
        }
      ]
    },
    {
      "cell_type": "code",
      "metadata": {
        "id": "5UDpEGjfO8Q2",
        "colab": {
          "base_uri": "https://localhost:8080/"
        },
        "outputId": "03f11b94-0bd4-445b-f0ec-72b75e2a0933"
      },
      "source": [
        "!python3 download_model.py 345M"
      ],
      "execution_count": 6,
      "outputs": [
        {
          "output_type": "stream",
          "text": [
            "\rFetching checkpoint:   0%|                                              | 0.00/77.0 [00:00<?, ?it/s]\rFetching checkpoint: 1.00kit [00:00, 1.16Mit/s]                                                     \n",
            "\rFetching encoder.json:   0%|                                           | 0.00/1.04M [00:00<?, ?it/s]\rFetching encoder.json: 1.04Mit [00:00, 60.6Mit/s]                                                   \n",
            "Fetching hparams.json: 1.00kit [00:00, 1.37Mit/s]                                                   \n",
            "Fetching model.ckpt.data-00000-of-00001: 1.42Git [00:16, 85.0Mit/s]                                 \n",
            "Fetching model.ckpt.index: 11.0kit [00:00, 10.2Mit/s]                                               \n",
            "Fetching model.ckpt.meta: 927kit [00:00, 54.2Mit/s]                                                 \n",
            "Fetching vocab.bpe: 457kit [00:00, 52.7Mit/s]                                                       \n"
          ],
          "name": "stdout"
        }
      ]
    },
    {
      "cell_type": "markdown",
      "metadata": {
        "id": "Zq-YwRnNOBYO"
      },
      "source": [
        "encoding"
      ]
    },
    {
      "cell_type": "code",
      "metadata": {
        "id": "7oJPQtdLbbeK"
      },
      "source": [
        "!export PYTHONIOENCODING=UTF-8"
      ],
      "execution_count": 7,
      "outputs": []
    },
    {
      "cell_type": "markdown",
      "metadata": {
        "id": "0KzSbAvePgsI"
      },
      "source": [
        "Fetch checkpoints if you have them saved in google drive -  if you don't have a saved checkpoint yet DON'T worry! The following commands will still run and check the drive but won't find anything yet."
      ]
    },
    {
      "cell_type": "code",
      "metadata": {
        "id": "cA2Wk7yIPmS6"
      },
      "source": [
        "!cp -r /content/drive/My\\Drive/checkpoint/ /content/GPT2_example_CAMEROO\\N// "
      ],
      "execution_count": 8,
      "outputs": []
    },
    {
      "cell_type": "markdown",
      "metadata": {
        "id": "0p--9zwqQRTc"
      },
      "source": [
        "\n",
        "Let's get our train on! In this case the file is A Tale of Two Cities (Charles Dickens) from Project Gutenberg. To change the dataset GPT-2 models will fine-tune on, change this URL to another .txt file, and change corresponding part of the next cell. Note that you can use small datasets if you want but you will have to be sure not to run the fine-tuning for too long or you will overfit badly. Roughly, expect interesting results within minutes to hours in the 1-10s of megabyte ballpark, and below this you may want to stop the run early as fine-tuning can be very fast."
      ]
    },
    {
      "cell_type": "code",
      "metadata": {
        "id": "QOCvrs-DHvxa",
        "colab": {
          "base_uri": "https://localhost:8080/"
        },
        "outputId": "d8671ce0-4024-45c0-b915-8cefff34fe86"
      },
      "source": [
        "!wget https://www.gutenberg.org/files/98/98-0.txt"
      ],
      "execution_count": 9,
      "outputs": [
        {
          "output_type": "stream",
          "text": [
            "--2021-01-07 16:25:42--  https://www.gutenberg.org/files/98/98-0.txt\n",
            "Resolving www.gutenberg.org (www.gutenberg.org)... 152.19.134.47, 2610:28:3090:3000:0:bad:cafe:47\n",
            "Connecting to www.gutenberg.org (www.gutenberg.org)|152.19.134.47|:443... connected.\n",
            "HTTP request sent, awaiting response... 200 OK\n",
            "Length: 807615 (789K) [text/plain]\n",
            "Saving to: ‘98-0.txt’\n",
            "\n",
            "98-0.txt            100%[===================>] 788.69K   775KB/s    in 1.0s    \n",
            "\n",
            "2021-01-07 16:25:43 (775 KB/s) - ‘98-0.txt’ saved [807615/807615]\n",
            "\n"
          ],
          "name": "stdout"
        }
      ]
    },
    {
      "cell_type": "markdown",
      "metadata": {
        "id": "yPfJ5b3CQXqr"
      },
      "source": [
        "\n",
        "Start training, add --model_name '345M' to use 345 model. Use 117M for the smaller model. Again, as we are using an older version of TensorFlow there will be some 'deprecated' flags; we can ignore these. You can stop the training at anypoint with CTRL + C _OR_ you can right click on the three dots to the left of the output below and select \"interrupt execution\" (the three dots appear directly below the spinning stop/play button beside the code); the training will continue 'indefinitely' and will populate the screen with samples in intervals of 100. To get a feel and gist for the system, stop the training after first 200 and move on. You can always come back as we have set up checkpoints!"
      ]
    },
    {
      "cell_type": "code",
      "metadata": {
        "id": "pEn_ihcGI00T",
        "colab": {
          "base_uri": "https://localhost:8080/"
        },
        "outputId": "b75bd40f-4c2f-42d9-e39f-5e7297590dbe"
      },
      "source": [
        "!chmod u+rwx train.py\r\n",
        "!PYTHONPATH=src ./train.py --dataset /content/GPT2_example_CAMEROO\\N//98-0.txt --model_name '345M'"
      ],
      "execution_count": 10,
      "outputs": [
        {
          "output_type": "stream",
          "text": [
            "WARNING:tensorflow:From /content/GPT2_example_CAMEROON/src/model.py:147: The name tf.AUTO_REUSE is deprecated. Please use tf.compat.v1.AUTO_REUSE instead.\n",
            "\n",
            "WARNING:tensorflow:\n",
            "The TensorFlow contrib module will not be included in TensorFlow 2.0.\n",
            "For more information, please see:\n",
            "  * https://github.com/tensorflow/community/blob/master/rfcs/20180907-contrib-sunset.md\n",
            "  * https://github.com/tensorflow/addons\n",
            "  * https://github.com/tensorflow/io (for I/O related ops)\n",
            "If you depend on functionality not listed there, please file an issue.\n",
            "\n",
            "WARNING:tensorflow:From /content/GPT2_example_CAMEROON/src/memory_saving_gradients.py:13: The name tf.GraphKeys is deprecated. Please use tf.compat.v1.GraphKeys instead.\n",
            "\n",
            "WARNING:tensorflow:From ./train.py:88: The name tf.ConfigProto is deprecated. Please use tf.compat.v1.ConfigProto instead.\n",
            "\n",
            "WARNING:tensorflow:From ./train.py:91: The name tf.Session is deprecated. Please use tf.compat.v1.Session instead.\n",
            "\n",
            "2021-01-07 16:27:10.085170: I tensorflow/core/platform/cpu_feature_guard.cc:142] Your CPU supports instructions that this TensorFlow binary was not compiled to use: AVX2 FMA\n",
            "2021-01-07 16:27:10.095463: I tensorflow/core/platform/profile_utils/cpu_utils.cc:94] CPU Frequency: 2199995000 Hz\n",
            "2021-01-07 16:27:10.095797: I tensorflow/compiler/xla/service/service.cc:168] XLA service 0x300f640 initialized for platform Host (this does not guarantee that XLA will be used). Devices:\n",
            "2021-01-07 16:27:10.095829: I tensorflow/compiler/xla/service/service.cc:176]   StreamExecutor device (0): Host, Default Version\n",
            "2021-01-07 16:27:10.100717: I tensorflow/stream_executor/platform/default/dso_loader.cc:44] Successfully opened dynamic library libcuda.so.1\n",
            "2021-01-07 16:27:10.310062: I tensorflow/stream_executor/cuda/cuda_gpu_executor.cc:983] successful NUMA node read from SysFS had negative value (-1), but there must be at least one NUMA node, so returning NUMA node zero\n",
            "2021-01-07 16:27:10.310735: I tensorflow/compiler/xla/service/service.cc:168] XLA service 0x300ed80 initialized for platform CUDA (this does not guarantee that XLA will be used). Devices:\n",
            "2021-01-07 16:27:10.310765: I tensorflow/compiler/xla/service/service.cc:176]   StreamExecutor device (0): Tesla T4, Compute Capability 7.5\n",
            "2021-01-07 16:27:10.311558: I tensorflow/stream_executor/cuda/cuda_gpu_executor.cc:983] successful NUMA node read from SysFS had negative value (-1), but there must be at least one NUMA node, so returning NUMA node zero\n",
            "2021-01-07 16:27:10.312119: I tensorflow/core/common_runtime/gpu/gpu_device.cc:1618] Found device 0 with properties: \n",
            "name: Tesla T4 major: 7 minor: 5 memoryClockRate(GHz): 1.59\n",
            "pciBusID: 0000:00:04.0\n",
            "2021-01-07 16:27:10.326689: I tensorflow/stream_executor/platform/default/dso_loader.cc:44] Successfully opened dynamic library libcudart.so.10.0\n",
            "2021-01-07 16:27:10.502871: I tensorflow/stream_executor/platform/default/dso_loader.cc:44] Successfully opened dynamic library libcublas.so.10.0\n",
            "2021-01-07 16:27:10.593138: I tensorflow/stream_executor/platform/default/dso_loader.cc:44] Successfully opened dynamic library libcufft.so.10.0\n",
            "2021-01-07 16:27:10.610501: I tensorflow/stream_executor/platform/default/dso_loader.cc:44] Successfully opened dynamic library libcurand.so.10.0\n",
            "2021-01-07 16:27:10.863198: I tensorflow/stream_executor/platform/default/dso_loader.cc:44] Successfully opened dynamic library libcusolver.so.10.0\n",
            "2021-01-07 16:27:10.980998: I tensorflow/stream_executor/platform/default/dso_loader.cc:44] Successfully opened dynamic library libcusparse.so.10.0\n",
            "2021-01-07 16:27:11.486791: I tensorflow/stream_executor/platform/default/dso_loader.cc:44] Successfully opened dynamic library libcudnn.so.7\n",
            "2021-01-07 16:27:11.486974: I tensorflow/stream_executor/cuda/cuda_gpu_executor.cc:983] successful NUMA node read from SysFS had negative value (-1), but there must be at least one NUMA node, so returning NUMA node zero\n",
            "2021-01-07 16:27:11.487622: I tensorflow/stream_executor/cuda/cuda_gpu_executor.cc:983] successful NUMA node read from SysFS had negative value (-1), but there must be at least one NUMA node, so returning NUMA node zero\n",
            "2021-01-07 16:27:11.488115: I tensorflow/core/common_runtime/gpu/gpu_device.cc:1746] Adding visible gpu devices: 0\n",
            "2021-01-07 16:27:11.490089: I tensorflow/stream_executor/platform/default/dso_loader.cc:44] Successfully opened dynamic library libcudart.so.10.0\n",
            "2021-01-07 16:27:11.491315: I tensorflow/core/common_runtime/gpu/gpu_device.cc:1159] Device interconnect StreamExecutor with strength 1 edge matrix:\n",
            "2021-01-07 16:27:11.491345: I tensorflow/core/common_runtime/gpu/gpu_device.cc:1165]      0 \n",
            "2021-01-07 16:27:11.491355: I tensorflow/core/common_runtime/gpu/gpu_device.cc:1178] 0:   N \n",
            "2021-01-07 16:27:11.492417: I tensorflow/stream_executor/cuda/cuda_gpu_executor.cc:983] successful NUMA node read from SysFS had negative value (-1), but there must be at least one NUMA node, so returning NUMA node zero\n",
            "2021-01-07 16:27:11.492994: I tensorflow/stream_executor/cuda/cuda_gpu_executor.cc:983] successful NUMA node read from SysFS had negative value (-1), but there must be at least one NUMA node, so returning NUMA node zero\n",
            "2021-01-07 16:27:11.493517: I tensorflow/core/common_runtime/gpu/gpu_device.cc:1304] Created TensorFlow device (/job:localhost/replica:0/task:0/device:GPU:0 with 14221 MB memory) -> physical GPU (device: 0, name: Tesla T4, pci bus id: 0000:00:04.0, compute capability: 7.5)\n",
            "WARNING:tensorflow:From ./train.py:92: The name tf.placeholder is deprecated. Please use tf.compat.v1.placeholder instead.\n",
            "\n",
            "WARNING:tensorflow:From /content/GPT2_example_CAMEROON/src/model.py:148: The name tf.variable_scope is deprecated. Please use tf.compat.v1.variable_scope instead.\n",
            "\n",
            "WARNING:tensorflow:From /content/GPT2_example_CAMEROON/src/model.py:152: The name tf.get_variable is deprecated. Please use tf.compat.v1.get_variable instead.\n",
            "\n",
            "WARNING:tensorflow:From /content/GPT2_example_CAMEROON/src/model.py:36: The name tf.rsqrt is deprecated. Please use tf.math.rsqrt instead.\n",
            "\n",
            "WARNING:tensorflow:From /content/GPT2_example_CAMEROON/src/model.py:166: The name tf.add_to_collection is deprecated. Please use tf.compat.v1.add_to_collection instead.\n",
            "\n",
            "WARNING:tensorflow:From /content/GPT2_example_CAMEROON/src/sample.py:65: to_float (from tensorflow.python.ops.math_ops) is deprecated and will be removed in a future version.\n",
            "Instructions for updating:\n",
            "Use `tf.cast` instead.\n",
            "WARNING:tensorflow:From /content/GPT2_example_CAMEROON/src/sample.py:16: where (from tensorflow.python.ops.array_ops) is deprecated and will be removed in a future version.\n",
            "Instructions for updating:\n",
            "Use tf.where in 2.0, which has the same broadcast rule as np.where\n",
            "WARNING:tensorflow:From /content/GPT2_example_CAMEROON/src/sample.py:70: multinomial (from tensorflow.python.ops.random_ops) is deprecated and will be removed in a future version.\n",
            "Instructions for updating:\n",
            "Use `tf.random.categorical` instead.\n",
            "WARNING:tensorflow:From ./train.py:117: The name tf.trainable_variables is deprecated. Please use tf.compat.v1.trainable_variables instead.\n",
            "\n",
            "WARNING:tensorflow:From ./train.py:121: The name tf.train.AdamOptimizer is deprecated. Please use tf.compat.v1.train.AdamOptimizer instead.\n",
            "\n",
            "WARNING:tensorflow:From /content/GPT2_example_CAMEROON/src/memory_saving_gradients.py:62: get_backward_walk_ops (from tensorflow.contrib.graph_editor.select) is deprecated and will be removed after 2019-06-06.\n",
            "Instructions for updating:\n",
            "Please use tensorflow.python.ops.op_selector.get_backward_walk_ops.\n",
            "WARNING:tensorflow:From /content/GPT2_example_CAMEROON/src/memory_saving_gradients.py:89: The name tf.get_collection is deprecated. Please use tf.compat.v1.get_collection instead.\n",
            "\n",
            "WARNING:tensorflow:From ./train.py:144: The name tf.summary.scalar is deprecated. Please use tf.compat.v1.summary.scalar instead.\n",
            "\n",
            "WARNING:tensorflow:From ./train.py:147: The name tf.summary.merge is deprecated. Please use tf.compat.v1.summary.merge instead.\n",
            "\n",
            "WARNING:tensorflow:From ./train.py:149: The name tf.summary.FileWriter is deprecated. Please use tf.compat.v1.summary.FileWriter instead.\n",
            "\n",
            "WARNING:tensorflow:From ./train.py:152: The name tf.train.Saver is deprecated. Please use tf.compat.v1.train.Saver instead.\n",
            "\n",
            "WARNING:tensorflow:From ./train.py:156: The name tf.global_variables_initializer is deprecated. Please use tf.compat.v1.global_variables_initializer instead.\n",
            "\n",
            "Loading checkpoint checkpoint/run1/model-511\n",
            "Loading dataset...\n",
            "100% 1/1 [00:01<00:00,  1.23s/it]\n",
            "dataset has 211919 tokens\n",
            "Training...\n",
            "2021-01-07 16:28:15.491869: I tensorflow/stream_executor/platform/default/dso_loader.cc:44] Successfully opened dynamic library libcublas.so.10.0\n",
            "[512 | 10.88] loss=2.63 avg=2.63\n",
            "[513 | 12.38] loss=2.60 avg=2.62\n",
            "[514 | 13.88] loss=2.18 avg=2.47\n",
            "[515 | 15.39] loss=1.91 avg=2.33\n",
            "[516 | 16.90] loss=2.20 avg=2.30\n",
            "[517 | 18.42] loss=2.28 avg=2.30\n",
            "[518 | 19.92] loss=2.84 avg=2.38\n",
            "[519 | 21.44] loss=2.29 avg=2.37\n",
            "[520 | 22.96] loss=2.44 avg=2.37\n",
            "[521 | 24.47] loss=2.94 avg=2.43\n",
            "[522 | 26.00] loss=2.43 avg=2.43\n",
            "[523 | 27.52] loss=2.85 avg=2.47\n",
            "[524 | 29.05] loss=2.60 avg=2.48\n",
            "[525 | 30.58] loss=2.44 avg=2.48\n",
            "[526 | 32.12] loss=2.62 avg=2.49\n",
            "[527 | 33.65] loss=2.23 avg=2.47\n",
            "[528 | 35.19] loss=2.23 avg=2.46\n",
            "[529 | 36.73] loss=2.20 avg=2.44\n",
            "[530 | 38.27] loss=2.90 avg=2.47\n",
            "[531 | 39.81] loss=2.10 avg=2.45\n",
            "[532 | 41.36] loss=2.73 avg=2.46\n",
            "[533 | 42.91] loss=2.81 avg=2.48\n",
            "[534 | 44.46] loss=2.36 avg=2.47\n",
            "[535 | 46.01] loss=2.47 avg=2.47\n",
            "[536 | 47.57] loss=3.06 avg=2.50\n",
            "[537 | 49.13] loss=3.24 avg=2.53\n",
            "[538 | 50.70] loss=2.33 avg=2.52\n",
            "[539 | 52.26] loss=2.24 avg=2.51\n",
            "[540 | 53.83] loss=2.45 avg=2.51\n",
            "[541 | 55.40] loss=2.46 avg=2.51\n",
            "[542 | 56.97] loss=2.33 avg=2.50\n",
            "[543 | 58.55] loss=2.16 avg=2.49\n",
            "[544 | 60.13] loss=2.14 avg=2.48\n",
            "[545 | 61.71] loss=2.62 avg=2.48\n",
            "[546 | 63.29] loss=2.40 avg=2.48\n",
            "[547 | 64.88] loss=2.73 avg=2.49\n",
            "[548 | 66.48] loss=1.91 avg=2.47\n",
            "[549 | 68.07] loss=2.09 avg=2.46\n",
            "[550 | 69.66] loss=0.43 avg=2.39\n",
            "[551 | 71.27] loss=2.56 avg=2.40\n",
            "[552 | 72.87] loss=2.61 avg=2.40\n",
            "[553 | 74.47] loss=2.44 avg=2.41\n",
            "[554 | 76.08] loss=2.38 avg=2.40\n",
            "[555 | 77.69] loss=2.41 avg=2.40\n",
            "[556 | 79.30] loss=2.20 avg=2.40\n",
            "[557 | 80.92] loss=2.58 avg=2.40\n",
            "[558 | 82.54] loss=2.06 avg=2.39\n",
            "[559 | 84.16] loss=2.23 avg=2.39\n",
            "[560 | 85.79] loss=2.79 avg=2.40\n",
            "[561 | 87.42] loss=1.88 avg=2.39\n",
            "[562 | 89.06] loss=2.98 avg=2.40\n",
            "[563 | 90.70] loss=2.48 avg=2.40\n",
            "[564 | 92.35] loss=2.73 avg=2.41\n",
            "[565 | 93.99] loss=2.32 avg=2.41\n",
            "[566 | 95.64] loss=2.84 avg=2.42\n",
            "[567 | 97.29] loss=2.41 avg=2.42\n",
            "[568 | 98.96] loss=1.72 avg=2.40\n",
            "[569 | 100.62] loss=2.47 avg=2.41\n",
            "[570 | 102.29] loss=2.53 avg=2.41\n",
            "[571 | 103.96] loss=2.25 avg=2.40\n",
            "[572 | 105.64] loss=2.66 avg=2.41\n",
            "[573 | 107.32] loss=2.41 avg=2.41\n",
            "[574 | 109.01] loss=1.92 avg=2.40\n",
            "[575 | 110.70] loss=1.99 avg=2.39\n",
            "[576 | 112.40] loss=1.98 avg=2.38\n",
            "[577 | 114.10] loss=3.12 avg=2.40\n",
            "[578 | 115.80] loss=1.88 avg=2.39\n",
            "[579 | 117.50] loss=2.83 avg=2.40\n",
            "[580 | 119.18] loss=2.99 avg=2.41\n",
            "[581 | 120.86] loss=2.38 avg=2.41\n",
            "[582 | 122.54] loss=3.53 avg=2.43\n",
            "[583 | 124.20] loss=2.32 avg=2.43\n",
            "[584 | 125.86] loss=2.40 avg=2.43\n",
            "[585 | 127.52] loss=2.21 avg=2.42\n",
            "[586 | 129.18] loss=2.55 avg=2.42\n",
            "[587 | 130.83] loss=2.08 avg=2.42\n",
            "[588 | 132.48] loss=2.60 avg=2.42\n",
            "[589 | 134.12] loss=1.78 avg=2.41\n",
            "[590 | 135.77] loss=3.20 avg=2.42\n",
            "[591 | 137.41] loss=2.15 avg=2.42\n",
            "[592 | 139.05] loss=2.34 avg=2.42\n",
            "[593 | 140.69] loss=2.49 avg=2.42\n",
            "[594 | 142.32] loss=2.07 avg=2.41\n",
            "[595 | 143.95] loss=2.37 avg=2.41\n",
            "[596 | 145.58] loss=2.85 avg=2.42\n",
            "[597 | 147.22] loss=2.39 avg=2.42\n",
            "[598 | 148.86] loss=2.47 avg=2.42\n",
            "[599 | 150.49] loss=2.19 avg=2.42\n",
            "Generating samples...\n",
            "======== SAMPLE 1 ========\n",
            " Luca Mariner\n",
            "From the Portico of the Hotel des Deux Exist\n",
            "In Saint Antoine,\n",
            "\n",
            "where the King was\n",
            "\n",
            "In a dream. His\n",
            "\n",
            "Door.\n",
            "\n",
            "Enter Monseigneur.\n",
            "\n",
            "Monseigneur: Monseigneur.\n",
            "\n",
            "“The King is sleeping,” said Defarge.\n",
            "\n",
            "Monseigneur: Ah! The King is asleep, too.\n",
            "\n",
            "“Ah, Defarge, that you are!” cried Grimaud.\n",
            "\n",
            "“Oh! I am!”\n",
            "\n",
            "The door opened, and Monseigneur,\n",
            "\n",
            "with a hand in his waistcoat pocket, and his mouth agape,\n",
            "opened it in the same way twice before the two\n",
            "barbed-wire men entered.\n",
            "\n",
            "“And now he\n",
            "\n",
            "Door, Defarge.”\n",
            "\n",
            "Defarge sat down beside Monseigneur, and they had\n",
            "a long talk about the matter.\n",
            "\n",
            "“Is he\n",
            "\n",
            "Door.”\n",
            "\n",
            "“Yes.\n",
            "\n",
            "“Is he dead?” asked Defarge.\n",
            "\n",
            "“Yes; he\n",
            "\n",
            "Door, Defarge.”\n",
            "\n",
            "“And what is his\n",
            "\n",
            "Door;”\n",
            "\n",
            "“And what is he.”\n",
            "\n",
            "“And, for what reason ?”\n",
            "\n",
            "“For the sake of the young lady and her\n",
            "heart\n",
            "‘of the day,’\n",
            "\n",
            "“And, for the salvation of Saint Louis!\n",
            "\n",
            "“Yes!”\n",
            "\n",
            "Afterwards, they entered the\n",
            "night.\n",
            "\n",
            "“What, then, is his\n",
            "‘death?” inquired Defarge.\n",
            "\n",
            "“Is it a sad one?”\n",
            "\n",
            "“I\n",
            "\n",
            "Door, Defarge.”\n",
            "\n",
            "“Has the King fallen? He is now in a\n",
            "casket.” said Defarge.\n",
            "\n",
            "“Is it a casket?” echoed the King, in a hushed murmur.\n",
            "\n",
            "“I\n",
            "\n",
            "Door, Defarge.”\n",
            "\n",
            "“Does it contain any\n",
            "\n",
            "body?”\n",
            "\n",
            "“No; no, I\n",
            "\n",
            "Door, Defarge.”\n",
            "\n",
            "“Has\n",
            "\n",
            "him risen?”\n",
            "\n",
            "“No; no, I\n",
            "\n",
            "Door, Defarge.”\n",
            "\n",
            "“Has he fallen?” repeated Defarge.\n",
            "\n",
            "“Is it a great stone?”\n",
            "\n",
            "“No; it is not so,\n",
            "\n",
            "Door, Defarge.”\n",
            "\n",
            "“Is it very strange?”\n",
            "\n",
            "“Yes, it is very strange.”\n",
            "\n",
            "“Is it a frightful, horrible thing?”\n",
            "\n",
            "“Yes; a frightfull dreadfull thing\n",
            "\n",
            "Door, Defarge.”\n",
            "\n",
            "“Is it very strange?” queried the King, with a smile.\n",
            "\n",
            "“Yes; it is\n",
            "\n",
            "very\n",
            "\n",
            "like to the\n",
            "\n",
            "day\n",
            ", and\n",
            "\n",
            "not to a day.”\n",
            "\n",
            "“Hark! Hark!” came a voice behind him.\n",
            "\n",
            "“And, there is the\n",
            "\n",
            "Door, Defarge.”\n",
            "\n",
            "“In\n",
            "\n",
            "the\n",
            "\n",
            "Hall.”\n",
            "\n",
            "Dealing with Defarge\n",
            "\n",
            "Dealing with Monseigneur\n",
            "\n",
            "“Ah ! That\n",
            "\n",
            "sounds extraordinary!” said the King.\n",
            "\n",
            "“Yes; it\n",
            "\n",
            "harms me\n",
            "\n",
            "all\n",
            "\n",
            "too well. The noise and the sight\n",
            "of\n",
            "\n",
            "my\n",
            "\n",
            "prisoner\n",
            "\n",
            "are horrible to behold,”\n",
            "\n",
            "his Majesty continued.\n",
            "\n",
            "This was a pleasant day, and the three\n",
            "suspected each Other out of doors. A good deal was already\n",
            "troubled by the King and the Council in the matter of\n",
            "money, and his Majesty had been very judicious in setting up\n",
            "the new\n",
            "\n",
            "account in that respect. For the\n",
            "\n",
            "most part, however, the Council did not find any difficulty in the\n",
            "satisfaction of the King with regard to how much money\n",
            "should be given, and in the payment of tax.\n",
            "\n",
            "The Council met on a Monday next, and for the second time\n",
            "in a year. The first time, they met on the\n",
            "weekday before Easter Sunday; the second time, they met\n",
            "in the week after Easter Sunday. In the latter case, they\n",
            "met on the sixth of November; in the former, the twenty-sixth.\n",
            "\n",
            "In both of these cases, the day was very dark, with neither darkness\n",
            "nor moon.\n",
            "\n",
            "\n",
            "[600 | 178.04] loss=1.98 avg=2.41\n",
            "[601 | 179.71] loss=2.95 avg=2.42\n",
            "[602 | 181.38] loss=2.49 avg=2.42\n",
            "[603 | 183.06] loss=2.29 avg=2.42\n",
            "[604 | 184.74] loss=2.39 avg=2.42\n",
            "[605 | 186.41] loss=1.66 avg=2.40\n",
            "[606 | 188.09] loss=2.43 avg=2.40\n",
            "[607 | 189.76] loss=2.45 avg=2.41\n",
            "[608 | 191.44] loss=2.09 avg=2.40\n",
            "[609 | 193.10] loss=2.28 avg=2.40\n",
            "[610 | 194.77] loss=2.24 avg=2.40\n",
            "[611 | 196.43] loss=2.55 avg=2.40\n",
            "[612 | 198.09] loss=2.71 avg=2.40\n",
            "[613 | 199.75] loss=2.44 avg=2.40\n",
            "[614 | 201.41] loss=2.74 avg=2.41\n",
            "[615 | 203.07] loss=2.32 avg=2.41\n",
            "[616 | 204.73] loss=2.44 avg=2.41\n",
            "[617 | 206.39] loss=2.58 avg=2.41\n",
            "[618 | 208.05] loss=2.27 avg=2.41\n",
            "[619 | 209.71] loss=1.91 avg=2.40\n",
            "[620 | 211.37] loss=2.68 avg=2.41\n",
            "[621 | 213.03] loss=2.48 avg=2.41\n",
            "[622 | 214.69] loss=3.06 avg=2.42\n",
            "[623 | 216.34] loss=2.30 avg=2.41\n",
            "[624 | 217.99] loss=2.70 avg=2.42\n",
            "[625 | 219.64] loss=3.06 avg=2.43\n",
            "[626 | 221.29] loss=2.68 avg=2.43\n",
            "[627 | 222.95] loss=2.68 avg=2.44\n",
            "[628 | 224.59] loss=2.09 avg=2.43\n",
            "[629 | 226.24] loss=2.74 avg=2.44\n",
            "[630 | 227.89] loss=1.75 avg=2.43\n",
            "[631 | 229.54] loss=1.98 avg=2.42\n",
            "[632 | 231.18] loss=1.94 avg=2.41\n",
            "[633 | 232.83] loss=2.14 avg=2.41\n",
            "[634 | 234.48] loss=2.35 avg=2.41\n",
            "[635 | 236.14] loss=2.25 avg=2.41\n",
            "[636 | 237.78] loss=3.04 avg=2.41\n",
            "[637 | 239.43] loss=2.32 avg=2.41\n",
            "[638 | 241.09] loss=1.80 avg=2.40\n",
            "[639 | 242.74] loss=2.34 avg=2.40\n",
            "[640 | 244.40] loss=2.00 avg=2.40\n",
            "[641 | 246.05] loss=1.64 avg=2.39\n",
            "[642 | 247.71] loss=2.18 avg=2.38\n",
            "[643 | 249.36] loss=2.35 avg=2.38\n",
            "[644 | 251.01] loss=2.45 avg=2.38\n",
            "[645 | 252.67] loss=2.25 avg=2.38\n",
            "[646 | 254.33] loss=2.20 avg=2.38\n",
            "[647 | 255.99] loss=2.73 avg=2.39\n",
            "[648 | 257.64] loss=2.36 avg=2.38\n",
            "[649 | 259.29] loss=2.53 avg=2.39\n",
            "[650 | 260.95] loss=1.47 avg=2.37\n",
            "[651 | 262.62] loss=2.11 avg=2.37\n",
            "[652 | 264.28] loss=1.98 avg=2.37\n",
            "[653 | 265.94] loss=2.66 avg=2.37\n",
            "[654 | 267.60] loss=2.35 avg=2.37\n",
            "[655 | 269.26] loss=0.23 avg=2.34\n",
            "[656 | 270.92] loss=2.27 avg=2.34\n",
            "[657 | 272.58] loss=2.21 avg=2.34\n",
            "[658 | 274.25] loss=2.31 avg=2.34\n",
            "[659 | 275.91] loss=2.23 avg=2.34\n",
            "[660 | 277.57] loss=2.03 avg=2.33\n",
            "[661 | 279.22] loss=2.32 avg=2.33\n",
            "[662 | 280.89] loss=1.98 avg=2.33\n",
            "[663 | 282.55] loss=2.52 avg=2.33\n",
            "[664 | 284.21] loss=1.78 avg=2.32\n",
            "[665 | 285.87] loss=2.19 avg=2.32\n",
            "[666 | 287.53] loss=2.33 avg=2.32\n",
            "[667 | 289.19] loss=2.26 avg=2.32\n",
            "[668 | 290.85] loss=2.02 avg=2.32\n",
            "interrupted\n",
            "Saving checkpoint/run1/model-669\n"
          ],
          "name": "stdout"
        }
      ]
    },
    {
      "cell_type": "markdown",
      "metadata": {
        "id": "vS1RJJDFOPnb"
      },
      "source": [
        "Save our checkpoints to start training again later"
      ]
    },
    {
      "cell_type": "code",
      "metadata": {
        "id": "JretqG1zOXdi"
      },
      "source": [
        "!cp -r /content/GPT2_example_CAMEROO\\N/checkpoint /content/drive/My\\ Drive/"
      ],
      "execution_count": 11,
      "outputs": []
    },
    {
      "cell_type": "markdown",
      "metadata": {
        "id": "6D-i7vERWbNS"
      },
      "source": [
        "Load your trained model for use in sampling below (117M or 345M) -  if you don't have a trained model yet DON'T worry! The following commands will still run and check the drive but won't find anything yet. If you have only trained 117M or only trained 345M - you will only be able to load one of, not both of the following load codes."
      ]
    },
    {
      "cell_type": "code",
      "metadata": {
        "id": "VeETvWvrbKga"
      },
      "source": [
        "!cp -r /content/GPT2_example_CAMEROO\\N/checkpoint/run1/* /content/GPT2_example_CAMEROO\\N/models/117M/"
      ],
      "execution_count": 12,
      "outputs": []
    },
    {
      "cell_type": "code",
      "metadata": {
        "id": "np0r6qfXBeUX"
      },
      "source": [
        "!cp -r /content/GPT2_example_CAMEROO\\N/checkpoint/run1/* /content/GPT2_example_CAMEROO\\N/models/345M/"
      ],
      "execution_count": 13,
      "outputs": []
    },
    {
      "cell_type": "markdown",
      "metadata": {
        "id": "GmnSrXqtfRbq"
      },
      "source": [
        "Now we will generate conditional samples from the model given a prompt you provide -  change top-k hyperparameter if desired (default is 40),  if you're using 345M, add \"--model-name 345M\"\r\n",
        "\r\n",
        "# Have fun with the model inputs! Try words, sentences, paragraphs!\r\n",
        "## You can enter whatever comes to mind! Ask a question. Give a comment. Paste in a passage from a book. Get creative!\r\n",
        "\r\n",
        "The prompt will appear at the bottom of the output section, wait for it, enter your text and hit 'enter' on your keyboard to 'communicate' with your trained model. As before, you can 'interrupt execution' to move on. You can return back at anytime by running this section of code again."
      ]
    },
    {
      "cell_type": "code",
      "metadata": {
        "id": "utJj-iY4gHwE",
        "colab": {
          "base_uri": "https://localhost:8080/"
        },
        "outputId": "4fa2f55a-6780-46fd-d2a9-6a8369659662"
      },
      "source": [
        "!chmod u+rwx src/interactive_conditional_samples.py\r\n",
        "!python3 src/interactive_conditional_samples.py --top_k 40 --model_name \"345M\""
      ],
      "execution_count": 14,
      "outputs": [
        {
          "output_type": "stream",
          "text": [
            "WARNING:tensorflow:From /content/GPT2_example_CAMEROON/src/model.py:147: The name tf.AUTO_REUSE is deprecated. Please use tf.compat.v1.AUTO_REUSE instead.\n",
            "\n",
            "WARNING:tensorflow:From src/interactive_conditional_samples.py:55: The name tf.Session is deprecated. Please use tf.compat.v1.Session instead.\n",
            "\n",
            "2021-01-07 16:37:15.043842: I tensorflow/stream_executor/platform/default/dso_loader.cc:44] Successfully opened dynamic library libcuda.so.1\n",
            "2021-01-07 16:37:15.095197: I tensorflow/stream_executor/cuda/cuda_gpu_executor.cc:983] successful NUMA node read from SysFS had negative value (-1), but there must be at least one NUMA node, so returning NUMA node zero\n",
            "2021-01-07 16:37:15.095801: I tensorflow/core/common_runtime/gpu/gpu_device.cc:1618] Found device 0 with properties: \n",
            "name: Tesla T4 major: 7 minor: 5 memoryClockRate(GHz): 1.59\n",
            "pciBusID: 0000:00:04.0\n",
            "2021-01-07 16:37:15.103617: I tensorflow/stream_executor/platform/default/dso_loader.cc:44] Successfully opened dynamic library libcudart.so.10.0\n",
            "2021-01-07 16:37:15.304175: I tensorflow/stream_executor/platform/default/dso_loader.cc:44] Successfully opened dynamic library libcublas.so.10.0\n",
            "2021-01-07 16:37:15.400933: I tensorflow/stream_executor/platform/default/dso_loader.cc:44] Successfully opened dynamic library libcufft.so.10.0\n",
            "2021-01-07 16:37:15.419480: I tensorflow/stream_executor/platform/default/dso_loader.cc:44] Successfully opened dynamic library libcurand.so.10.0\n",
            "2021-01-07 16:37:15.657894: I tensorflow/stream_executor/platform/default/dso_loader.cc:44] Successfully opened dynamic library libcusolver.so.10.0\n",
            "2021-01-07 16:37:15.800584: I tensorflow/stream_executor/platform/default/dso_loader.cc:44] Successfully opened dynamic library libcusparse.so.10.0\n",
            "2021-01-07 16:37:16.300126: I tensorflow/stream_executor/platform/default/dso_loader.cc:44] Successfully opened dynamic library libcudnn.so.7\n",
            "2021-01-07 16:37:16.300311: I tensorflow/stream_executor/cuda/cuda_gpu_executor.cc:983] successful NUMA node read from SysFS had negative value (-1), but there must be at least one NUMA node, so returning NUMA node zero\n",
            "2021-01-07 16:37:16.301000: I tensorflow/stream_executor/cuda/cuda_gpu_executor.cc:983] successful NUMA node read from SysFS had negative value (-1), but there must be at least one NUMA node, so returning NUMA node zero\n",
            "2021-01-07 16:37:16.301510: I tensorflow/core/common_runtime/gpu/gpu_device.cc:1746] Adding visible gpu devices: 0\n",
            "2021-01-07 16:37:16.301942: I tensorflow/core/platform/cpu_feature_guard.cc:142] Your CPU supports instructions that this TensorFlow binary was not compiled to use: AVX2 FMA\n",
            "2021-01-07 16:37:16.310477: I tensorflow/core/platform/profile_utils/cpu_utils.cc:94] CPU Frequency: 2199995000 Hz\n",
            "2021-01-07 16:37:16.311091: I tensorflow/compiler/xla/service/service.cc:168] XLA service 0x24b5800 initialized for platform Host (this does not guarantee that XLA will be used). Devices:\n",
            "2021-01-07 16:37:16.311131: I tensorflow/compiler/xla/service/service.cc:176]   StreamExecutor device (0): Host, Default Version\n",
            "2021-01-07 16:37:16.454600: I tensorflow/stream_executor/cuda/cuda_gpu_executor.cc:983] successful NUMA node read from SysFS had negative value (-1), but there must be at least one NUMA node, so returning NUMA node zero\n",
            "2021-01-07 16:37:16.455266: I tensorflow/compiler/xla/service/service.cc:168] XLA service 0x24b59c0 initialized for platform CUDA (this does not guarantee that XLA will be used). Devices:\n",
            "2021-01-07 16:37:16.455295: I tensorflow/compiler/xla/service/service.cc:176]   StreamExecutor device (0): Tesla T4, Compute Capability 7.5\n",
            "2021-01-07 16:37:16.456050: I tensorflow/stream_executor/cuda/cuda_gpu_executor.cc:983] successful NUMA node read from SysFS had negative value (-1), but there must be at least one NUMA node, so returning NUMA node zero\n",
            "2021-01-07 16:37:16.456581: I tensorflow/core/common_runtime/gpu/gpu_device.cc:1618] Found device 0 with properties: \n",
            "name: Tesla T4 major: 7 minor: 5 memoryClockRate(GHz): 1.59\n",
            "pciBusID: 0000:00:04.0\n",
            "2021-01-07 16:37:16.456650: I tensorflow/stream_executor/platform/default/dso_loader.cc:44] Successfully opened dynamic library libcudart.so.10.0\n",
            "2021-01-07 16:37:16.456678: I tensorflow/stream_executor/platform/default/dso_loader.cc:44] Successfully opened dynamic library libcublas.so.10.0\n",
            "2021-01-07 16:37:16.456699: I tensorflow/stream_executor/platform/default/dso_loader.cc:44] Successfully opened dynamic library libcufft.so.10.0\n",
            "2021-01-07 16:37:16.456720: I tensorflow/stream_executor/platform/default/dso_loader.cc:44] Successfully opened dynamic library libcurand.so.10.0\n",
            "2021-01-07 16:37:16.456739: I tensorflow/stream_executor/platform/default/dso_loader.cc:44] Successfully opened dynamic library libcusolver.so.10.0\n",
            "2021-01-07 16:37:16.456757: I tensorflow/stream_executor/platform/default/dso_loader.cc:44] Successfully opened dynamic library libcusparse.so.10.0\n",
            "2021-01-07 16:37:16.456776: I tensorflow/stream_executor/platform/default/dso_loader.cc:44] Successfully opened dynamic library libcudnn.so.7\n",
            "2021-01-07 16:37:16.456845: I tensorflow/stream_executor/cuda/cuda_gpu_executor.cc:983] successful NUMA node read from SysFS had negative value (-1), but there must be at least one NUMA node, so returning NUMA node zero\n",
            "2021-01-07 16:37:16.457377: I tensorflow/stream_executor/cuda/cuda_gpu_executor.cc:983] successful NUMA node read from SysFS had negative value (-1), but there must be at least one NUMA node, so returning NUMA node zero\n",
            "2021-01-07 16:37:16.457892: I tensorflow/core/common_runtime/gpu/gpu_device.cc:1746] Adding visible gpu devices: 0\n",
            "2021-01-07 16:37:16.459891: I tensorflow/stream_executor/platform/default/dso_loader.cc:44] Successfully opened dynamic library libcudart.so.10.0\n",
            "2021-01-07 16:37:16.461135: I tensorflow/core/common_runtime/gpu/gpu_device.cc:1159] Device interconnect StreamExecutor with strength 1 edge matrix:\n",
            "2021-01-07 16:37:16.461168: I tensorflow/core/common_runtime/gpu/gpu_device.cc:1165]      0 \n",
            "2021-01-07 16:37:16.461178: I tensorflow/core/common_runtime/gpu/gpu_device.cc:1178] 0:   N \n",
            "2021-01-07 16:37:16.462190: I tensorflow/stream_executor/cuda/cuda_gpu_executor.cc:983] successful NUMA node read from SysFS had negative value (-1), but there must be at least one NUMA node, so returning NUMA node zero\n",
            "2021-01-07 16:37:16.462790: I tensorflow/stream_executor/cuda/cuda_gpu_executor.cc:983] successful NUMA node read from SysFS had negative value (-1), but there must be at least one NUMA node, so returning NUMA node zero\n",
            "2021-01-07 16:37:16.463312: W tensorflow/core/common_runtime/gpu/gpu_bfc_allocator.cc:39] Overriding allow_growth setting because the TF_FORCE_GPU_ALLOW_GROWTH environment variable is set. Original config value was 0.\n",
            "2021-01-07 16:37:16.463356: I tensorflow/core/common_runtime/gpu/gpu_device.cc:1304] Created TensorFlow device (/job:localhost/replica:0/task:0/device:GPU:0 with 14221 MB memory) -> physical GPU (device: 0, name: Tesla T4, pci bus id: 0000:00:04.0, compute capability: 7.5)\n",
            "WARNING:tensorflow:From src/interactive_conditional_samples.py:56: The name tf.placeholder is deprecated. Please use tf.compat.v1.placeholder instead.\n",
            "\n",
            "WARNING:tensorflow:From src/interactive_conditional_samples.py:58: The name tf.set_random_seed is deprecated. Please use tf.compat.v1.set_random_seed instead.\n",
            "\n",
            "WARNING:tensorflow:From /content/GPT2_example_CAMEROON/src/model.py:148: The name tf.variable_scope is deprecated. Please use tf.compat.v1.variable_scope instead.\n",
            "\n",
            "WARNING:tensorflow:From /content/GPT2_example_CAMEROON/src/model.py:152: The name tf.get_variable is deprecated. Please use tf.compat.v1.get_variable instead.\n",
            "\n",
            "WARNING:tensorflow:From /content/GPT2_example_CAMEROON/src/model.py:36: The name tf.rsqrt is deprecated. Please use tf.math.rsqrt instead.\n",
            "\n",
            "WARNING:tensorflow:From /content/GPT2_example_CAMEROON/src/model.py:166: The name tf.add_to_collection is deprecated. Please use tf.compat.v1.add_to_collection instead.\n",
            "\n",
            "WARNING:tensorflow:From /content/GPT2_example_CAMEROON/src/sample.py:65: to_float (from tensorflow.python.ops.math_ops) is deprecated and will be removed in a future version.\n",
            "Instructions for updating:\n",
            "Use `tf.cast` instead.\n",
            "WARNING:tensorflow:From /content/GPT2_example_CAMEROON/src/sample.py:16: where (from tensorflow.python.ops.array_ops) is deprecated and will be removed in a future version.\n",
            "Instructions for updating:\n",
            "Use tf.where in 2.0, which has the same broadcast rule as np.where\n",
            "WARNING:tensorflow:From /content/GPT2_example_CAMEROON/src/sample.py:70: multinomial (from tensorflow.python.ops.random_ops) is deprecated and will be removed in a future version.\n",
            "Instructions for updating:\n",
            "Use `tf.random.categorical` instead.\n",
            "WARNING:tensorflow:From src/interactive_conditional_samples.py:66: The name tf.train.Saver is deprecated. Please use tf.compat.v1.train.Saver instead.\n",
            "\n",
            "Model prompt >>> ALOHA! How is the weather inside the computer? I am looking forward to a good detective game.\n",
            "2021-01-07 16:39:15.976614: I tensorflow/stream_executor/platform/default/dso_loader.cc:44] Successfully opened dynamic library libcublas.so.10.0\n",
            "======================================== SAMPLE 1 ========================================\n",
            "\n",
            "\n",
            "“It is very fair,” said the Doctor, with a mild smile.\n",
            "\n",
            "“What do you ask, Mr. Carton?”\n",
            "\n",
            "Casement glasses--at least, the kind that Mr. Carton carried with him--held the Doctor\n",
            "back, as he made the attempt to smile back.\n",
            "\n",
            "“It would be an excellent game, thank you,” said Carton. “But you\n",
            "must not think that it is necessary for you to know the whole story. You\n",
            "have heard enough from the outside of the place. Go to your room, and I\n",
            "will come and speak to you afterwards.”\n",
            "\n",
            "The Doctor, though he had seen nothing beyond those closed curtains,\n",
            "felt that Carton was making some change of expression in some part\n",
            " of the room, and that it was difficult for him to tell what shape\n",
            "it might be. He was right; the change was not quite one of a smile,\n",
            "but it was there.\n",
            "\n",
            "“You have got it wrong,” said Carton, with a grimace; and as if\n",
            "to hide it under a grimace, he put his right hand to his cheek.\n",
            "\n",
            "The Doctor did not follow that step; but at length Mr. Lorry came\n",
            "clausing over the other side of them, and Carton said, in a voice that\n",
            "was at first of a low and strained pitch, “That’s right. I have got all the\n",
            "story; it will not harm me.”\n",
            "\n",
            "It was true. He had, of course, forgotten what he had said the instant\n",
            "he had put that hand to his cheek. But, his expression was altered,\n",
            "and it was not a smile. It was a frown. The Doctor, seeing the change,\n",
            "stood up as if to shake his head.\n",
            "\n",
            "“But you are not to help me to my bed?” Carton said.\n",
            "\n",
            "“By no means. Go and sit there.”\n",
            "\n",
            "A few more steps, and Carton was behind the two of them, and close on\n",
            "the edge of the corridor beyond the inner door. The Doctor, taking\n",
            "advantage of the vacant room nearest him, moved quietly about,\n",
            "insulating it, and keeping the outer door shut behind him.\n",
            "They had, however, moved slowly now, and their pace was slow, for they\n",
            "had only\n",
            "================================================================================\n",
            "Model prompt >>> Traceback (most recent call last):\n",
            "  File \"/usr/lib/python3.6/contextlib.py\", line 99, in __exit__\n",
            "    self.gen.throw(type, value, traceback)\n",
            "  File \"/usr/local/lib/python3.6/dist-packages/tensorflow_core/python/framework/ops.py\", line 5480, in get_controller\n",
            "    yield g\n",
            "  File \"src/interactive_conditional_samples.py\", line 71, in interact_model\n",
            "    raw_text = input(\"Model prompt >>> \")\n",
            "KeyboardInterrupt\n",
            "\n",
            "During handling of the above exception, another exception occurred:\n",
            "\n",
            "Traceback (most recent call last):\n",
            "  File \"src/interactive_conditional_samples.py\", line 89, in <module>\n",
            "    fire.Fire(interact_model)\n",
            "  File \"/usr/local/lib/python3.6/dist-packages/fire/core.py\", line 138, in Fire\n",
            "    component_trace = _Fire(component, args, parsed_flag_args, context, name)\n",
            "  File \"/usr/local/lib/python3.6/dist-packages/fire/core.py\", line 468, in _Fire\n",
            "    target=component.__name__)\n",
            "  File \"/usr/local/lib/python3.6/dist-packages/fire/core.py\", line 672, in _CallAndUpdateTrace\n",
            "    component = fn(*varargs, **kwargs)\n",
            "  File \"src/interactive_conditional_samples.py\", line 86, in interact_model\n",
            "    print(\"=\" * 80)\n",
            "  File \"/usr/local/lib/python3.6/dist-packages/tensorflow_core/python/client/session.py\", line 1633, in __exit__\n",
            "    close_thread.start()\n",
            "  File \"/usr/lib/python3.6/threading.py\", line 851, in start\n",
            "    self._started.wait()\n",
            "  File \"/usr/lib/python3.6/threading.py\", line 551, in wait\n",
            "    signaled = self._cond.wait(timeout)\n",
            "  File \"/usr/lib/python3.6/threading.py\", line 295, in wait\n",
            "    waiter.acquire()\n",
            "KeyboardInterrupt\n"
          ],
          "name": "stdout"
        }
      ]
    },
    {
      "cell_type": "markdown",
      "metadata": {
        "id": "LeDhY97XMDXn"
      },
      "source": [
        "To check flag descriptions, use:"
      ]
    },
    {
      "cell_type": "code",
      "metadata": {
        "id": "pBaj2L_KMAgb",
        "colab": {
          "base_uri": "https://localhost:8080/"
        },
        "outputId": "65afea99-af82-40e9-ced5-ad05baf649d2"
      },
      "source": [
        "!python3 src/interactive_conditional_samples.py -- --help"
      ],
      "execution_count": 15,
      "outputs": [
        {
          "output_type": "stream",
          "text": [
            "WARNING:tensorflow:From /content/GPT2_example_CAMEROON/src/model.py:147: The name tf.AUTO_REUSE is deprecated. Please use tf.compat.v1.AUTO_REUSE instead.\n",
            "\n",
            "\u001b[1mNAME\u001b[0m\n",
            "    interactive_conditional_samples.py - Interactively run the model :model_name=117M : String, which model to use :seed=None : Integer seed for random number generators, fix seed to reproduce results :nsamples=1 : Number of samples to return total :batch_size=1 : Number of batches (only affects speed/memory).  Must divide nsamples. :length=None : Number of tokens in generated text, if None (default), is determined by model hyperparameters :temperature=1 : Float value controlling randomness in boltzmann distribution. Lower temperature results in less random completions. As the temperature approaches zero, the model will become deterministic and repetitive. Higher temperature results in more random completions. :top_k=0 : Integer value controlling diversity. 1 means only 1 word is considered for each step (token), resulting in deterministic completions, while 40 means 40 words are considered at each step. 0 (default) is a special setting meaning no restrictions. 40 generally is a good value. :top_p=0.0 : Float value controlling diversity. Implements nucleus sampling, overriding top_k if set to a value > 0. A good setting is 0.9.\n",
            "\n",
            "\u001b[1mSYNOPSIS\u001b[0m\n",
            "    interactive_conditional_samples.py <flags>\n",
            "\n",
            "\u001b[1mDESCRIPTION\u001b[0m\n",
            "    Interactively run the model :model_name=117M : String, which model to use :seed=None : Integer seed for random number generators, fix seed to reproduce results :nsamples=1 : Number of samples to return total :batch_size=1 : Number of batches (only affects speed/memory).  Must divide nsamples. :length=None : Number of tokens in generated text, if None (default), is determined by model hyperparameters :temperature=1 : Float value controlling randomness in boltzmann distribution. Lower temperature results in less random completions. As the temperature approaches zero, the model will become deterministic and repetitive. Higher temperature results in more random completions. :top_k=0 : Integer value controlling diversity. 1 means only 1 word is considered for each step (token), resulting in deterministic completions, while 40 means 40 words are considered at each step. 0 (default) is a special setting meaning no restrictions. 40 generally is a good value. :top_p=0.0 : Float value controlling diversity. Implements nucleus sampling, overriding top_k if set to a value > 0. A good setting is 0.9.\n",
            "\n",
            "\u001b[1mFLAGS\u001b[0m\n",
            "    --model_name=\u001b[4mMODEL_NAME\u001b[0m\n",
            "    --seed=\u001b[4mSEED\u001b[0m\n",
            "    --nsamples=\u001b[4mNSAMPLES\u001b[0m\n",
            "    --batch_size=\u001b[4mBATCH_SIZE\u001b[0m\n",
            "    --length=\u001b[4mLENGTH\u001b[0m\n",
            "    --temperature=\u001b[4mTEMPERATURE\u001b[0m\n",
            "    --top_k=\u001b[4mTOP_K\u001b[0m\n",
            "    --top_p=\u001b[4mTOP_P\u001b[0m\n"
          ],
          "name": "stdout"
        }
      ]
    },
    {
      "cell_type": "markdown",
      "metadata": {
        "id": "K8rSqkGxg5OK"
      },
      "source": [
        "An alternative to interactive sample generation is the following, again \"interrupt execution\" when you are ready to move on:\r\n",
        "\r\n",
        "Generate unconditional samples from the model,  if you're using 345M, add \"--model-name 345M\""
      ]
    },
    {
      "cell_type": "code",
      "metadata": {
        "id": "LaQUEnRxWc3c",
        "colab": {
          "base_uri": "https://localhost:8080/"
        },
        "outputId": "7c596df7-d47e-41de-d12a-0503a4c76174"
      },
      "source": [
        "!chmod u+rwx src/generate_unconditional_samples.py\r\n",
        "!python3 src/generate_unconditional_samples.py --model_name \"345M\" | tee /tmp/samples"
      ],
      "execution_count": 16,
      "outputs": [
        {
          "output_type": "stream",
          "text": [
            "WARNING:tensorflow:From /content/GPT2_example_CAMEROON/src/model.py:147: The name tf.AUTO_REUSE is deprecated. Please use tf.compat.v1.AUTO_REUSE instead.\n",
            "\n",
            "WARNING:tensorflow:From src/generate_unconditional_samples.py:52: The name tf.Session is deprecated. Please use tf.compat.v1.Session instead.\n",
            "\n",
            "2021-01-07 16:40:51.070597: I tensorflow/stream_executor/platform/default/dso_loader.cc:44] Successfully opened dynamic library libcuda.so.1\n",
            "2021-01-07 16:40:51.104151: I tensorflow/stream_executor/cuda/cuda_gpu_executor.cc:983] successful NUMA node read from SysFS had negative value (-1), but there must be at least one NUMA node, so returning NUMA node zero\n",
            "2021-01-07 16:40:51.104764: I tensorflow/core/common_runtime/gpu/gpu_device.cc:1618] Found device 0 with properties: \n",
            "name: Tesla T4 major: 7 minor: 5 memoryClockRate(GHz): 1.59\n",
            "pciBusID: 0000:00:04.0\n",
            "2021-01-07 16:40:51.105066: I tensorflow/stream_executor/platform/default/dso_loader.cc:44] Successfully opened dynamic library libcudart.so.10.0\n",
            "2021-01-07 16:40:51.106455: I tensorflow/stream_executor/platform/default/dso_loader.cc:44] Successfully opened dynamic library libcublas.so.10.0\n",
            "2021-01-07 16:40:51.107847: I tensorflow/stream_executor/platform/default/dso_loader.cc:44] Successfully opened dynamic library libcufft.so.10.0\n",
            "2021-01-07 16:40:51.108208: I tensorflow/stream_executor/platform/default/dso_loader.cc:44] Successfully opened dynamic library libcurand.so.10.0\n",
            "2021-01-07 16:40:51.109740: I tensorflow/stream_executor/platform/default/dso_loader.cc:44] Successfully opened dynamic library libcusolver.so.10.0\n",
            "2021-01-07 16:40:51.110767: I tensorflow/stream_executor/platform/default/dso_loader.cc:44] Successfully opened dynamic library libcusparse.so.10.0\n",
            "2021-01-07 16:40:51.114097: I tensorflow/stream_executor/platform/default/dso_loader.cc:44] Successfully opened dynamic library libcudnn.so.7\n",
            "2021-01-07 16:40:51.114228: I tensorflow/stream_executor/cuda/cuda_gpu_executor.cc:983] successful NUMA node read from SysFS had negative value (-1), but there must be at least one NUMA node, so returning NUMA node zero\n",
            "2021-01-07 16:40:51.114903: I tensorflow/stream_executor/cuda/cuda_gpu_executor.cc:983] successful NUMA node read from SysFS had negative value (-1), but there must be at least one NUMA node, so returning NUMA node zero\n",
            "2021-01-07 16:40:51.115451: I tensorflow/core/common_runtime/gpu/gpu_device.cc:1746] Adding visible gpu devices: 0\n",
            "2021-01-07 16:40:51.115858: I tensorflow/core/platform/cpu_feature_guard.cc:142] Your CPU supports instructions that this TensorFlow binary was not compiled to use: AVX2 FMA\n",
            "2021-01-07 16:40:51.120277: I tensorflow/core/platform/profile_utils/cpu_utils.cc:94] CPU Frequency: 2199995000 Hz\n",
            "2021-01-07 16:40:51.120504: I tensorflow/compiler/xla/service/service.cc:168] XLA service 0x15eb800 initialized for platform Host (this does not guarantee that XLA will be used). Devices:\n",
            "2021-01-07 16:40:51.120574: I tensorflow/compiler/xla/service/service.cc:176]   StreamExecutor device (0): Host, Default Version\n",
            "2021-01-07 16:40:51.231609: I tensorflow/stream_executor/cuda/cuda_gpu_executor.cc:983] successful NUMA node read from SysFS had negative value (-1), but there must be at least one NUMA node, so returning NUMA node zero\n",
            "2021-01-07 16:40:51.232289: I tensorflow/compiler/xla/service/service.cc:168] XLA service 0x15eb9c0 initialized for platform CUDA (this does not guarantee that XLA will be used). Devices:\n",
            "2021-01-07 16:40:51.232324: I tensorflow/compiler/xla/service/service.cc:176]   StreamExecutor device (0): Tesla T4, Compute Capability 7.5\n",
            "2021-01-07 16:40:51.232513: I tensorflow/stream_executor/cuda/cuda_gpu_executor.cc:983] successful NUMA node read from SysFS had negative value (-1), but there must be at least one NUMA node, so returning NUMA node zero\n",
            "2021-01-07 16:40:51.233062: I tensorflow/core/common_runtime/gpu/gpu_device.cc:1618] Found device 0 with properties: \n",
            "name: Tesla T4 major: 7 minor: 5 memoryClockRate(GHz): 1.59\n",
            "pciBusID: 0000:00:04.0\n",
            "2021-01-07 16:40:51.233138: I tensorflow/stream_executor/platform/default/dso_loader.cc:44] Successfully opened dynamic library libcudart.so.10.0\n",
            "2021-01-07 16:40:51.233170: I tensorflow/stream_executor/platform/default/dso_loader.cc:44] Successfully opened dynamic library libcublas.so.10.0\n",
            "2021-01-07 16:40:51.233194: I tensorflow/stream_executor/platform/default/dso_loader.cc:44] Successfully opened dynamic library libcufft.so.10.0\n",
            "2021-01-07 16:40:51.233220: I tensorflow/stream_executor/platform/default/dso_loader.cc:44] Successfully opened dynamic library libcurand.so.10.0\n",
            "2021-01-07 16:40:51.233248: I tensorflow/stream_executor/platform/default/dso_loader.cc:44] Successfully opened dynamic library libcusolver.so.10.0\n",
            "2021-01-07 16:40:51.233278: I tensorflow/stream_executor/platform/default/dso_loader.cc:44] Successfully opened dynamic library libcusparse.so.10.0\n",
            "2021-01-07 16:40:51.233308: I tensorflow/stream_executor/platform/default/dso_loader.cc:44] Successfully opened dynamic library libcudnn.so.7\n",
            "2021-01-07 16:40:51.233395: I tensorflow/stream_executor/cuda/cuda_gpu_executor.cc:983] successful NUMA node read from SysFS had negative value (-1), but there must be at least one NUMA node, so returning NUMA node zero\n",
            "2021-01-07 16:40:51.234018: I tensorflow/stream_executor/cuda/cuda_gpu_executor.cc:983] successful NUMA node read from SysFS had negative value (-1), but there must be at least one NUMA node, so returning NUMA node zero\n",
            "2021-01-07 16:40:51.234520: I tensorflow/core/common_runtime/gpu/gpu_device.cc:1746] Adding visible gpu devices: 0\n",
            "2021-01-07 16:40:51.234617: I tensorflow/stream_executor/platform/default/dso_loader.cc:44] Successfully opened dynamic library libcudart.so.10.0\n",
            "2021-01-07 16:40:51.235755: I tensorflow/core/common_runtime/gpu/gpu_device.cc:1159] Device interconnect StreamExecutor with strength 1 edge matrix:\n",
            "2021-01-07 16:40:51.235795: I tensorflow/core/common_runtime/gpu/gpu_device.cc:1165]      0 \n",
            "2021-01-07 16:40:51.235809: I tensorflow/core/common_runtime/gpu/gpu_device.cc:1178] 0:   N \n",
            "2021-01-07 16:40:51.235939: I tensorflow/stream_executor/cuda/cuda_gpu_executor.cc:983] successful NUMA node read from SysFS had negative value (-1), but there must be at least one NUMA node, so returning NUMA node zero\n",
            "2021-01-07 16:40:51.236514: I tensorflow/stream_executor/cuda/cuda_gpu_executor.cc:983] successful NUMA node read from SysFS had negative value (-1), but there must be at least one NUMA node, so returning NUMA node zero\n",
            "2021-01-07 16:40:51.237052: W tensorflow/core/common_runtime/gpu/gpu_bfc_allocator.cc:39] Overriding allow_growth setting because the TF_FORCE_GPU_ALLOW_GROWTH environment variable is set. Original config value was 0.\n",
            "2021-01-07 16:40:51.237100: I tensorflow/core/common_runtime/gpu/gpu_device.cc:1304] Created TensorFlow device (/job:localhost/replica:0/task:0/device:GPU:0 with 14221 MB memory) -> physical GPU (device: 0, name: Tesla T4, pci bus id: 0000:00:04.0, compute capability: 7.5)\n",
            "WARNING:tensorflow:From src/generate_unconditional_samples.py:54: The name tf.set_random_seed is deprecated. Please use tf.compat.v1.set_random_seed instead.\n",
            "\n",
            "WARNING:tensorflow:From /content/GPT2_example_CAMEROON/src/model.py:148: The name tf.variable_scope is deprecated. Please use tf.compat.v1.variable_scope instead.\n",
            "\n",
            "WARNING:tensorflow:From /content/GPT2_example_CAMEROON/src/model.py:152: The name tf.get_variable is deprecated. Please use tf.compat.v1.get_variable instead.\n",
            "\n",
            "WARNING:tensorflow:From /content/GPT2_example_CAMEROON/src/model.py:36: The name tf.rsqrt is deprecated. Please use tf.math.rsqrt instead.\n",
            "\n",
            "WARNING:tensorflow:From /content/GPT2_example_CAMEROON/src/model.py:166: The name tf.add_to_collection is deprecated. Please use tf.compat.v1.add_to_collection instead.\n",
            "\n",
            "WARNING:tensorflow:From /content/GPT2_example_CAMEROON/src/sample.py:65: to_float (from tensorflow.python.ops.math_ops) is deprecated and will be removed in a future version.\n",
            "Instructions for updating:\n",
            "Use `tf.cast` instead.\n",
            "WARNING:tensorflow:From /content/GPT2_example_CAMEROON/src/sample.py:70: multinomial (from tensorflow.python.ops.random_ops) is deprecated and will be removed in a future version.\n",
            "Instructions for updating:\n",
            "Use `tf.random.categorical` instead.\n",
            "WARNING:tensorflow:From src/generate_unconditional_samples.py:63: The name tf.train.Saver is deprecated. Please use tf.compat.v1.train.Saver instead.\n",
            "\n",
            "2021-01-07 16:41:00.624895: I tensorflow/stream_executor/platform/default/dso_loader.cc:44] Successfully opened dynamic library libcublas.so.10.0\n",
            "======================================== SAMPLE 1 ========================================\n",
            "- by lumixxx, Nov 1. 2016, 09:15\n",
            "\n",
            "Strength: mg\n",
            "\n",
            "PG/VG-ratio:\n",
            "\n",
            "Flavor total: ( )\n",
            "\n",
            "Drops per ml:\n",
            "\n",
            "The scent I would say was a little harsh on my aunt who is very delicate nose. It reminded me of Rabbit's foot….number thirteen galore put into bakery stinks to me.I will proceed to the drops off. First, lets see what the dropper looks like. (at least how it pours for me today):\n",
            "August seem to pour silver\n",
            "or gold, whilst Hudson brings me a flowery drop.\n",
            "\n",
            "\n",
            "Credit goes to Phaedra Silver<|endoftext|>Greece is set to miss its daily target of repaying its huge bailout external bonds, IMF chief Christine Lagarde has told creditors in a letter.\n",
            "\n",
            "Syriza leader Alexis Tsipras has asked the European Union and European Central Bank to extend the bond deadline next week by two days and slash savings to levels below that of Athens, as a last resort. Include them in the existing rescued lifting programme. If Athens is found protected enough shortly to enter into the IMF programme as planned, it might otherwise fail.\n",
            "\n",
            "It is possible to start with only a partial programme, to remove some of the external conditions beyond a reasonable doubt, but to take them into account only at the start. This is bad and costly, but not in the essential sense.\n",
            "\n",
            "But it is possible to start with a partial programme, then to lift some of the conditions beyond the risk of failure (yet again), but only if the whole conditions become essential. In other words, the Greek recovery in the end must be ended early because it may cause the coming misfortune.\n",
            "\n",
            "Thus, with the present security free, with the old freestanding conditions working or soon working back again, it must be started gradually and, above all, as soon as possible. Only then is there any chance at all that the nightmare which began slowly can be ended. But there is no hope of this. Allowing life to continue (in a much grimmer plight) before the nightmare is ended, time may finish better than it began. Such haste is impossible now.\n",
            "\n",
            "The estimated difference in the Greek credit costs affected by the reduced agreement will change the estimates accordingly, judging by the updated surplus that is expected at the end of the week. This makes the feasibility of extending the objectives to the abatement of industrial surpluses or to industrial surpluses stemming solely from breakdown of state debt, and to surpluses in which the Company mis-declares depreciation on a depreciating article, dependent on this misrepresentation.\n",
            "\n",
            "The firm has for some years held that it believed it could use the gap in its balance of payments estimates in order to determine the supplementary accounts it would make therefrom and at the instalment. But all new wide-ranging run of results on the existing sub-economic and sub-financial situations have given it much indorsement. It turns down its measures to that extent.\n",
            "\n",
            "The situation is too serious for confidence on this score, and the Greeks have put to death the old plan. They cling to little numbers of\n",
            "paper bills, bound to give no more effect at any place, than the garishest jest in one city or the other.\n",
            "\n",
            "Sometimes, a delicacy allowed for by the enterprising feature of the\n",
            "Government as to expenditure of public funds for not spending on binding\n",
            "plans in the interest of a few officials and politicians, came out, and would then\n",
            "encroach – at first in the government support of charities, orphanages, schools, plantations, vineyards, museums, charts; but eventually in hir publication of\n",
            "education supplements, medicines, and other augmentations.\n",
            "\n",
            "Now the United States Government has put before the people an opening petition on this vital subject, from their large Government Foundation business which administers the generous tribute which it pays American moralists abroad. However, who can doubt that the Federal Reserve Bank is, indeed a wonderful, a just and a efficacious agency for supporting the organs of industry appertaining to our liberation, while our free contracting States tend their own reserves on their own account?\n",
            "\n",
            "The accounts of the financial institutions mentioned are opened in our books, to I. C. Marsh. Notes and Bonds not in hand or forwarded, are forwarded to us promptly this very mulatto Mr. Marsh.Value & Facebook Affiliations\n",
            "\n",
            "FROM HIS LOCAL COUNCIL: 20.4.1969. Fully 68.b, Grand Nobody, Evil Jew, Trojan Horse, Dogs of State, Mixed heritage Still Study Deputies: Only empty chair, Speaker, Your statement presupposes the establishment of the\n",
            "A\n",
            "\n",
            "House in the suburbs, obvious fatal fallacy Down with there being any Sixth Columnists in America And the galleys for French MESSAGES United\n",
            "Magistrate, Isuck and outgoing monthly P.S.\n",
            "======================================== SAMPLE 2 ========================================\n",
            "newline-blessed\n",
            "\n",
            "this be of billet, no\n",
            "a doubt,\n",
            "\n",
            "naw, too; naw, naw\n",
            "\n",
            "Tooched Chiffon Paris\n",
            "\n",
            "no, naw, naw, naw\n",
            "\n",
            "Touching Comfort (feat. Tom Jones)\n",
            "\n",
            "na, na, na\n",
            "\n",
            "Tell Mama-boo (feat. Papa John & The Who)\n",
            "\n",
            "na\n",
            "\n",
            "Turn On Your Love\n",
            "\n",
            "na, na\n",
            "\n",
            "We're Not Gonna Take It\n",
            "\n",
            "na\n",
            "\n",
            "Wings\n",
            "\n",
            "na\n",
            "\n",
            "Well, Here We Go Again\n",
            "\n",
            "Hey, Eastercakes\n",
            "\n",
            "Hold on, Willy\n",
            "\n",
            "Up the Road Again\n",
            "\n",
            "Hey, Wonderful Wonderfuls\n",
            "\n",
            "Now he ends the ceremony with his ev'ry tongue-tail-point; every word is there and animated. How ungrateful Thomas Wolfe was! Had he known (as he never knew) that him sharing in those fond and gratifying smiles the last time they met, would give trouble and ill will to the man to whom they are confessedly devoted! But it is My Will—Though it is difficult to tap the season for His-story; still, on the twelfth day of April, in a corner, in France! Such circumstances arise to make Tempers bloody, when Lights start out in France, fires go out there, men and Women bleed there, and Men weep for their lost Friends and Sorrows, in England! Paris once took a Toiler out of the Country, And Back again for him, and Honey gave. Says The Farmer of Trois-Prévost, locked in More\n",
            "\n",
            "numberless\n",
            "\n",
            "Shops than can be counted—Traffic Light, House, Jukebox, Ossuary Chamber, Snorting Cross, Private Dallas, Addictions at Large! “Frenchtown used to be such a the streets were so loaded with French People, that one might have felled half a Kernel of Bacon and two-thirds a Leaf of Maillardo Grass, and still have carried your way through any French Town. Now, Henri IV., the Dealer, is Dead; his Dead Head was on the Table there when we sauntered over. Alive and well, Charles Martel, Czar of France, Esquire, Husband of the Duchesses Madame, Lover of Three Gentlewomen, Father of Kings, President of the Republic, Husband to the Honorable Joseph of Sweden, is our Blessed House, O French Republic, and our Blessed Family! Grate, grate, sound the candlesticks, for it is offered a raucous and Earnest Jubilee, construed and coverted! Sound the food buckets, for it is said, Come, pour on us our Bracken and Such Burgers of French Food, and then, quietly supplicate, but firm and determined, God save the King, and Queen, illustrious Gentlemen of France!”””Men and Women, sauntering by the candlesticks flying, and the lovely, melodious bells and whistles ringing, “now comes reciprocal heartfelt Jubilation, sung with Supreme Minorities 54\n",
            "\n",
            "actions. Men and Women, moaning, reverently upbraid one another, bear one another in their arms, and bear one another in their hearths, and bear one another's burdens. The pleasant sibyl, engaged in stimulating the laugh in the band, who draws chilly breath upon a gentle female delicacy, who, mechaniseomatically, propitiates the fiery and the careless, wins over the intolerably stooping creature, and carries her to her ceaseless next work. All one lovely tone of giving, perfecting, and delighting, compensating and widening all others. The Life Appearing to Be Over, a tamarisk receding from a lamp in a London churchyard, does not impress on our sensual vision that dark cloud now moving on the sea. On the contrary, we are struck by that bubbling mass of infinitely meritorious deeds which we know, both in our heart and soul, to be yet to recount to posterity--treacheries blameless, loses untracked, means employed, results realized, advances made--henceforth the pearl of great value.””This is The Life Appearing to Be Over, All is Over, long ago; the Brand new and the Stranger. Come, gentle, crafty, resourceful, persistent, and hard at work, we hear the Tambourine breaking, and the Brick of a Dining-Room falls to the Ground. With grateful ears we listen to that Chimes, ten or fifteen Paces Hyperion South. Weary Hours Sleep in Darkness. Tired Still, Out-of-Work From a Burnt-Out Tumbrir, My Co-Comrades, The State of the Cause that Usurps in Perils a Man�Traceback (most recent call last):\n",
            "  File \"src/generate_unconditional_samples.py\", line 77, in <module>\n",
            "    fire.Fire(sample_model)\n",
            "  File \"/usr/local/lib/python3.6/dist-packages/fire/core.py\", line 138, in Fire\n",
            "    component_trace = _Fire(component, args, parsed_flag_args, context, name)\n",
            "  File \"/usr/local/lib/python3.6/dist-packages/fire/core.py\", line 468, in _Fire\n",
            "    target=component.__name__)\n",
            "  File \"/usr/local/lib/python3.6/dist-packages/fire/core.py\", line 672, in _CallAndUpdateTrace\n",
            "    component = fn(*varargs, **kwargs)\n",
            "  File \"src/generate_unconditional_samples.py\", line 69, in sample_model\n",
            "    out = sess.run(output)\n",
            "  File \"/usr/local/lib/python3.6/dist-packages/tensorflow_core/python/client/session.py\", line 956, in run\n",
            "    run_metadata_ptr)\n",
            "  File \"/usr/local/lib/python3.6/dist-packages/tensorflow_core/python/client/session.py\", line 1180, in _run\n",
            "    feed_dict_tensor, options, run_metadata)\n",
            "  File \"/usr/local/lib/python3.6/dist-packages/tensorflow_core/python/client/session.py\", line 1359, in _do_run\n",
            "    run_metadata)\n",
            "  File \"/usr/local/lib/python3.6/dist-packages/tensorflow_core/python/client/session.py\", line 1365, in _do_call\n",
            "    return fn(*args)\n",
            "  File \"/usr/local/lib/python3.6/dist-packages/tensorflow_core/python/client/session.py\", line 1350, in _run_fn\n",
            "    target_list, run_metadata)\n",
            "  File \"/usr/local/lib/python3.6/dist-packages/tensorflow_core/python/client/session.py\", line 1443, in _call_tf_sessionrun\n",
            "    run_metadata)\n",
            "KeyboardInterrupt\n",
            "Exception ignored in: <_io.TextIOWrapper name='<stdout>' mode='w' encoding='UTF-8'>\n",
            "BrokenPipeError: [Errno 32] Broken pipe\n",
            "^C\n"
          ],
          "name": "stdout"
        }
      ]
    },
    {
      "cell_type": "markdown",
      "metadata": {
        "id": "VM1Hag-JL3Bt"
      },
      "source": [
        "To check flag descriptions, use:"
      ]
    },
    {
      "cell_type": "code",
      "metadata": {
        "id": "Sdxfye-SL66I",
        "colab": {
          "base_uri": "https://localhost:8080/"
        },
        "outputId": "98bf239e-abe3-4824-8fb0-9afd209ca5fb"
      },
      "source": [
        "!python3 src/generate_unconditional_samples.py -- --help"
      ],
      "execution_count": 17,
      "outputs": [
        {
          "output_type": "stream",
          "text": [
            "WARNING:tensorflow:From /content/GPT2_example_CAMEROON/src/model.py:147: The name tf.AUTO_REUSE is deprecated. Please use tf.compat.v1.AUTO_REUSE instead.\n",
            "\n",
            "\u001b[1mNAME\u001b[0m\n",
            "    generate_unconditional_samples.py - Run the sample_model :model_name=117M : String, which model to use :seed=None : Integer seed for random number generators, fix seed to reproduce results :nsamples=0 : Number of samples to return, if 0, continues to generate samples indefinately. :batch_size=1 : Number of batches (only affects speed/memory). :length=None : Number of tokens in generated text, if None (default), is determined by model hyperparameters :temperature=1 : Float value controlling randomness in boltzmann distribution. Lower temperature results in less random completions. As the temperature approaches zero, the model will become deterministic and repetitive. Higher temperature results in more random completions. :top_k=0 : Integer value controlling diversity. 1 means only 1 word is considered for each step (token), resulting in deterministic completions, while 40 means 40 words are considered at each step. 0 (default) is a special setting meaning no restrictions. 40 generally is a good value. :top_p=0.0 : Float value controlling diversity. Implements nucleus sampling, overriding top_k if set to a value > 0. A good setting is 0.9.\n",
            "\n",
            "\u001b[1mSYNOPSIS\u001b[0m\n",
            "    generate_unconditional_samples.py <flags>\n",
            "\n",
            "\u001b[1mDESCRIPTION\u001b[0m\n",
            "    Run the sample_model :model_name=117M : String, which model to use :seed=None : Integer seed for random number generators, fix seed to reproduce results :nsamples=0 : Number of samples to return, if 0, continues to generate samples indefinately. :batch_size=1 : Number of batches (only affects speed/memory). :length=None : Number of tokens in generated text, if None (default), is determined by model hyperparameters :temperature=1 : Float value controlling randomness in boltzmann distribution. Lower temperature results in less random completions. As the temperature approaches zero, the model will become deterministic and repetitive. Higher temperature results in more random completions. :top_k=0 : Integer value controlling diversity. 1 means only 1 word is considered for each step (token), resulting in deterministic completions, while 40 means 40 words are considered at each step. 0 (default) is a special setting meaning no restrictions. 40 generally is a good value. :top_p=0.0 : Float value controlling diversity. Implements nucleus sampling, overriding top_k if set to a value > 0. A good setting is 0.9.\n",
            "\n",
            "\u001b[1mFLAGS\u001b[0m\n",
            "    --model_name=\u001b[4mMODEL_NAME\u001b[0m\n",
            "    --seed=\u001b[4mSEED\u001b[0m\n",
            "    --nsamples=\u001b[4mNSAMPLES\u001b[0m\n",
            "    --batch_size=\u001b[4mBATCH_SIZE\u001b[0m\n",
            "    --length=\u001b[4mLENGTH\u001b[0m\n",
            "    --temperature=\u001b[4mTEMPERATURE\u001b[0m\n",
            "    --top_k=\u001b[4mTOP_K\u001b[0m\n",
            "    --top_p=\u001b[4mTOP_P\u001b[0m\n"
          ],
          "name": "stdout"
        }
      ]
    },
    {
      "cell_type": "code",
      "metadata": {
        "id": "NijKHK0_OPhs"
      },
      "source": [
        ""
      ],
      "execution_count": null,
      "outputs": []
    }
  ]
}